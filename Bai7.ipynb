{
  "nbformat": 4,
  "nbformat_minor": 0,
  "metadata": {
    "colab": {
      "name": "Bai7.ipynb",
      "provenance": []
    },
    "kernelspec": {
      "name": "python3",
      "display_name": "Python 3"
    }
  },
  "cells": [
    {
      "cell_type": "markdown",
      "metadata": {
        "id": "XPOWsNw8mer6"
      },
      "source": [
        "Bài 7: Tìm phần tử nhỏ nhất của List gồm các số\n",
        "\n",
        "\n",
        "*   Tạo một List gồm các số thực (tạo ngẫu nhiên bằng hàm random với số lượng phần tử của list là số n nhập vào từ bàn phím)\n",
        "*   Hãy tìm phần tử có giá trị nhỏ nhất của List và in ra màn hình\n",
        "\n",
        "\n"
      ]
    },
    {
      "cell_type": "code",
      "metadata": {
        "colab": {
          "base_uri": "https://localhost:8080/"
        },
        "id": "z8e_TUX2mZXq",
        "outputId": "67e9ecc0-6fde-44d2-f9c4-0e166117c864"
      },
      "source": [
        "import random\n",
        "n=int(input(\"Nhập n=\"))\n",
        "list=random.sample(range(-100,100),n)\n",
        "print(\"list=\",list)\n",
        "min=list[1]\n",
        "for i in range(n):\n",
        "    if min>= list[i]:\n",
        "        min=list[i]\n",
        "print(\"Min=\",min)"
      ],
      "execution_count": 4,
      "outputs": [
        {
          "output_type": "stream",
          "text": [
            "Nhập n=10\n",
            "list= [2, -38, 30, -26, -54, 67, 43, -47, 46, 80]\n",
            "Min= -54\n"
          ],
          "name": "stdout"
        }
      ]
    }
  ]
}