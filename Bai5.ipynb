{
  "nbformat": 4,
  "nbformat_minor": 0,
  "metadata": {
    "colab": {
      "name": "Bai5.ipynb",
      "provenance": []
    },
    "kernelspec": {
      "name": "python3",
      "display_name": "Python 3"
    }
  },
  "cells": [
    {
      "cell_type": "markdown",
      "metadata": {
        "id": "q7Ko0YsbT3fW"
      },
      "source": [
        "Bài 5: \n",
        "Thực hiện lặp truy xuất đến từng phần tử trong List và in giá trị của từng phần tử ra màn hình"
      ]
    },
    {
      "cell_type": "code",
      "metadata": {
        "colab": {
          "base_uri": "https://localhost:8080/"
        },
        "id": "mbmP1iFGTXzA",
        "outputId": "4b7ae189-12a4-4f65-d7b4-9b955a3a1bea"
      },
      "source": [
        "list=[1,2,3,-5,0.1,0]\n",
        "for i in range(len(list)):\n",
        "    print(\"List[\",i,\"] =\",list[i])\n",
        "print(\"Kết thúc chương trình\")"
      ],
      "execution_count": 1,
      "outputs": [
        {
          "output_type": "stream",
          "text": [
            "List[ 0 ] = 1\n",
            "List[ 1 ] = 2\n",
            "List[ 2 ] = 3\n",
            "List[ 3 ] = -5\n",
            "List[ 4 ] = 0.1\n",
            "List[ 5 ] = 0\n",
            "Kết thúc chương trình\n"
          ],
          "name": "stdout"
        }
      ]
    },
    {
      "cell_type": "markdown",
      "metadata": {
        "id": "f31DajlyUeY3"
      },
      "source": [
        "Thực hiện lặp truy xuất đến từng phần tử trong List và thực hiện tính logarith của từng phần tử và in giá trị đó ra màn hình"
      ]
    },
    {
      "cell_type": "code",
      "metadata": {
        "colab": {
          "base_uri": "https://localhost:8080/"
        },
        "id": "PS8oJ9KkUio3",
        "outputId": "5791f64c-eded-4a24-d1e8-9e4c0ba8200e"
      },
      "source": [
        "import math\n",
        "list=[1,2,3,-5,0.1,0]\n",
        "for i in range(len(list)):\n",
        "    if list[i]>0:\n",
        "        print(\"Log(\",list[i],\") =\",math.log(list[i]))\n",
        "print(\"Kết thúc chương trình\")"
      ],
      "execution_count": 2,
      "outputs": [
        {
          "output_type": "stream",
          "text": [
            "Log( 1 ) = 0.0\n",
            "Log( 2 ) = 0.6931471805599453\n",
            "Log( 3 ) = 1.0986122886681098\n",
            "Log( 0.1 ) = -2.3025850929940455\n",
            "Kết thúc chương trình\n"
          ],
          "name": "stdout"
        }
      ]
    }
  ]
}