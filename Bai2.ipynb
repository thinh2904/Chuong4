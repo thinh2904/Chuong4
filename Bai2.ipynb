{
  "nbformat": 4,
  "nbformat_minor": 0,
  "metadata": {
    "colab": {
      "name": "Bai2",
      "provenance": []
    },
    "kernelspec": {
      "name": "python3",
      "display_name": "Python 3"
    }
  },
  "cells": [
    {
      "cell_type": "markdown",
      "metadata": {
        "id": "lTfcy27rV7AS"
      },
      "source": [
        "Vòng lặp While:"
      ]
    },
    {
      "cell_type": "code",
      "metadata": {
        "colab": {
          "base_uri": "https://localhost:8080/"
        },
        "id": "vqPLVzu0V3Bh",
        "outputId": "43db32e6-83ab-4986-bef9-7e5d61a8871c"
      },
      "source": [
        "print(\"Giải phương trình bậc nhất ax+b=0\")\n",
        "n=int(input(\"Nhập n=\"))\n",
        "while n>0:\n",
        "    a=float(input(\"Nhập a=\"))\n",
        "    b=float(input(\"Nhập b=\"))\n",
        "    if a==0 and b==0:\n",
        "        print(\"Vô số nghiệm\")\n",
        "    if a==0 and b!=0:\n",
        "        print(\"Vô nghiệm\")\n",
        "    if a!=0 and b!=0:\n",
        "        print(\"x=\",-b/a)\n",
        "    n-=1\n",
        "print(\"Kết thúc chương trình\")"
      ],
      "execution_count": 1,
      "outputs": [
        {
          "output_type": "stream",
          "text": [
            "Giải phương trình bậc nhất ax+b=0\n",
            "Nhập n=3\n",
            "Nhập a=4\n",
            "Nhập b=2\n",
            "x= -0.5\n",
            "Nhập a=0\n",
            "Nhập b=5\n",
            "Vô nghiệm\n",
            "Nhập a=0\n",
            "Nhập b=0\n",
            "Vô số nghiệm\n",
            "Kết thúc chương trình\n"
          ],
          "name": "stdout"
        }
      ]
    },
    {
      "cell_type": "markdown",
      "metadata": {
        "id": "ZAmVtwmaWKNP"
      },
      "source": [
        "Vòng lặp For:"
      ]
    },
    {
      "cell_type": "code",
      "metadata": {
        "colab": {
          "base_uri": "https://localhost:8080/"
        },
        "id": "TclwLu2sWMZn",
        "outputId": "6efe3ba2-6052-483c-a143-4e3204d0525a"
      },
      "source": [
        "print(\"Giải phương trình bậc nhất ax+b=0\")\n",
        "n=int(input(\"Nhập n=\"))\n",
        "for i in range(n):\n",
        "    a=float(input(\"Nhập a=\"))\n",
        "    b=float(input(\"Nhập b=\"))\n",
        "    if a==0 and b==0:\n",
        "        print(\"Vô số nghiệm\")\n",
        "    if a==0 and b!=0:\n",
        "        print(\"Vô nghiệm\")\n",
        "    if a!=0 and b!=0:\n",
        "        print(\"x=\",-b/a)\n",
        "print(\"Kết thúc chương trình\")"
      ],
      "execution_count": 2,
      "outputs": [
        {
          "output_type": "stream",
          "text": [
            "Giải phương trình bậc nhất ax+b=0\n",
            "Nhập n=3\n",
            "Nhập a=2\n",
            "Nhập b=4\n",
            "x= -2.0\n",
            "Nhập a=0\n",
            "Nhập b=0\n",
            "Vô số nghiệm\n",
            "Nhập a=0\n",
            "Nhập b=6\n",
            "Vô nghiệm\n",
            "Kết thúc chương trình\n"
          ],
          "name": "stdout"
        }
      ]
    }
  ]
}