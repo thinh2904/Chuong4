{
  "nbformat": 4,
  "nbformat_minor": 0,
  "metadata": {
    "colab": {
      "name": "Bai6.ipynb",
      "provenance": []
    },
    "kernelspec": {
      "name": "python3",
      "display_name": "Python 3"
    }
  },
  "cells": [
    {
      "cell_type": "markdown",
      "metadata": {
        "id": "XPOWsNw8mer6"
      },
      "source": [
        "Bài 6:Tìm phần tử lớn nhất của List gồm các số\n",
        "\n",
        "\n",
        "*   Tạo một List gồm các số thực (tạo ngẫu nhiên bằng hàm random với số lượng phần tử của list là số n nhập vào từ bàn phím)\n",
        "*   Hãy tìm phần tử có giá trị lớn nhất của List và in ra màn hình\n",
        "\n",
        "\n"
      ]
    },
    {
      "cell_type": "code",
      "metadata": {
        "colab": {
          "base_uri": "https://localhost:8080/"
        },
        "id": "z8e_TUX2mZXq",
        "outputId": "c019f9dc-90d5-4bb5-c6f6-57035fd4f065"
      },
      "source": [
        "import random\n",
        "n=int(input(\"Nhập n=\"))\n",
        "list=random.sample(range(-100,100),n)\n",
        "print(\"list=\",list)\n",
        "max=list[1]\n",
        "min=list[1]\n",
        "for i in range(n):\n",
        "    if max<= list[i]:\n",
        "        max=list[i]\n",
        "    if min>=list[i]:\n",
        "        min=list[i]\n",
        "print(\"Max=\",max)\n",
        "print(\"Min=\",min)"
      ],
      "execution_count": 1,
      "outputs": [
        {
          "output_type": "stream",
          "text": [
            "Nhập n=10\n",
            "list= [-79, 84, -50, -15, 32, -42, 76, -11, -43, 61]\n",
            "Max= 84\n",
            "Min= -79\n"
          ],
          "name": "stdout"
        }
      ]
    }
  ]
}